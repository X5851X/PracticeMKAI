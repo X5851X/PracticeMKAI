{
 "cells": [
  {
   "cell_type": "code",
   "execution_count": 1,
   "id": "67d928be",
   "metadata": {},
   "outputs": [],
   "source": [
    "import pandas as pd\n",
    "\n",
    "from sklearn.model_selection import train_test_split\n",
    "from sklearn.pipeline import Pipeline\n",
    "from sklearn.compose import ColumnTransformer\n",
    "from jcopml.pipeline import num_pipe, cat_pipe"
   ]
  },
  {
   "cell_type": "code",
   "execution_count": 3,
   "id": "a7383380",
   "metadata": {},
   "outputs": [
    {
     "data": {
      "text/html": [
       "<div>\n",
       "<style scoped>\n",
       "    .dataframe tbody tr th:only-of-type {\n",
       "        vertical-align: middle;\n",
       "    }\n",
       "\n",
       "    .dataframe tbody tr th {\n",
       "        vertical-align: top;\n",
       "    }\n",
       "\n",
       "    .dataframe thead th {\n",
       "        text-align: right;\n",
       "    }\n",
       "</style>\n",
       "<table border=\"1\" class=\"dataframe\">\n",
       "  <thead>\n",
       "    <tr style=\"text-align: right;\">\n",
       "      <th></th>\n",
       "      <th>Les</th>\n",
       "      <th>Jurusan</th>\n",
       "      <th>Nilai_Penjurusan</th>\n",
       "      <th>Nilai_Pokok</th>\n",
       "      <th>Jarak_Tempuh</th>\n",
       "      <th>PRESTASI</th>\n",
       "    </tr>\n",
       "  </thead>\n",
       "  <tbody>\n",
       "    <tr>\n",
       "      <th>0</th>\n",
       "      <td>Tidak</td>\n",
       "      <td>MIPA</td>\n",
       "      <td>Amat Baik</td>\n",
       "      <td>Baik</td>\n",
       "      <td>4</td>\n",
       "      <td>1</td>\n",
       "    </tr>\n",
       "    <tr>\n",
       "      <th>1</th>\n",
       "      <td>Tidak</td>\n",
       "      <td>MIPA</td>\n",
       "      <td>Baik</td>\n",
       "      <td>Baik</td>\n",
       "      <td>2</td>\n",
       "      <td>1</td>\n",
       "    </tr>\n",
       "    <tr>\n",
       "      <th>2</th>\n",
       "      <td>Tidak</td>\n",
       "      <td>MIPA</td>\n",
       "      <td>Baik</td>\n",
       "      <td>Baik</td>\n",
       "      <td>2</td>\n",
       "      <td>0</td>\n",
       "    </tr>\n",
       "    <tr>\n",
       "      <th>3</th>\n",
       "      <td>Tidak</td>\n",
       "      <td>MIPA</td>\n",
       "      <td>Baik</td>\n",
       "      <td>Baik</td>\n",
       "      <td>1</td>\n",
       "      <td>0</td>\n",
       "    </tr>\n",
       "    <tr>\n",
       "      <th>4</th>\n",
       "      <td>Ya</td>\n",
       "      <td>MIPA</td>\n",
       "      <td>Baik</td>\n",
       "      <td>Baik</td>\n",
       "      <td>3</td>\n",
       "      <td>0</td>\n",
       "    </tr>\n",
       "    <tr>\n",
       "      <th>...</th>\n",
       "      <td>...</td>\n",
       "      <td>...</td>\n",
       "      <td>...</td>\n",
       "      <td>...</td>\n",
       "      <td>...</td>\n",
       "      <td>...</td>\n",
       "    </tr>\n",
       "    <tr>\n",
       "      <th>95</th>\n",
       "      <td>Tidak</td>\n",
       "      <td>MIPA</td>\n",
       "      <td>Baik</td>\n",
       "      <td>Baik</td>\n",
       "      <td>1</td>\n",
       "      <td>1</td>\n",
       "    </tr>\n",
       "    <tr>\n",
       "      <th>96</th>\n",
       "      <td>Tidak</td>\n",
       "      <td>MIPA</td>\n",
       "      <td>Baik</td>\n",
       "      <td>Baik</td>\n",
       "      <td>8</td>\n",
       "      <td>0</td>\n",
       "    </tr>\n",
       "    <tr>\n",
       "      <th>97</th>\n",
       "      <td>Ya</td>\n",
       "      <td>MIPA</td>\n",
       "      <td>Baik</td>\n",
       "      <td>Baik</td>\n",
       "      <td>1</td>\n",
       "      <td>0</td>\n",
       "    </tr>\n",
       "    <tr>\n",
       "      <th>98</th>\n",
       "      <td>Tidak</td>\n",
       "      <td>MIPA</td>\n",
       "      <td>Baik</td>\n",
       "      <td>Baik</td>\n",
       "      <td>2</td>\n",
       "      <td>0</td>\n",
       "    </tr>\n",
       "    <tr>\n",
       "      <th>99</th>\n",
       "      <td>Ya</td>\n",
       "      <td>MIPA</td>\n",
       "      <td>Baik</td>\n",
       "      <td>Baik</td>\n",
       "      <td>2</td>\n",
       "      <td>0</td>\n",
       "    </tr>\n",
       "  </tbody>\n",
       "</table>\n",
       "<p>100 rows × 6 columns</p>\n",
       "</div>"
      ],
      "text/plain": [
       "      Les Jurusan Nilai_Penjurusan Nilai_Pokok  Jarak_Tempuh  PRESTASI\n",
       "0   Tidak    MIPA        Amat Baik        Baik             4         1\n",
       "1   Tidak    MIPA             Baik        Baik             2         1\n",
       "2   Tidak    MIPA             Baik        Baik             2         0\n",
       "3   Tidak    MIPA             Baik        Baik             1         0\n",
       "4      Ya    MIPA             Baik        Baik             3         0\n",
       "..    ...     ...              ...         ...           ...       ...\n",
       "95  Tidak    MIPA             Baik        Baik             1         1\n",
       "96  Tidak    MIPA             Baik        Baik             8         0\n",
       "97     Ya    MIPA             Baik        Baik             1         0\n",
       "98  Tidak    MIPA             Baik        Baik             2         0\n",
       "99     Ya    MIPA             Baik        Baik             2         0\n",
       "\n",
       "[100 rows x 6 columns]"
      ]
     },
     "execution_count": 3,
     "metadata": {},
     "output_type": "execute_result"
    }
   ],
   "source": [
    "data_frame = pd.read_excel('dataset1.xlsx')\n",
    "data_frame"
   ]
  },
  {
   "cell_type": "code",
   "execution_count": 5,
   "id": "3dcf209a",
   "metadata": {},
   "outputs": [
    {
     "name": "stdout",
     "output_type": "stream",
     "text": [
      "x_train =  (80, 5)\n",
      "x_test =  (20, 5)\n",
      "y_train =  (80,)\n",
      "y_test =  (20,)\n"
     ]
    }
   ],
   "source": [
    "predictors = data_frame.drop(columns='PRESTASI')\n",
    "targets = data_frame.PRESTASI\n",
    "x_train, x_test, y_train, y_test = train_test_split(predictors, targets, test_size=.2, random_state=0)\n",
    "\n",
    "print('x_train = ', x_train.shape)\n",
    "print('x_test = ', x_test.shape)\n",
    "print('y_train = ', y_train.shape)\n",
    "print('y_test = ', y_test.shape)"
   ]
  },
  {
   "cell_type": "code",
   "execution_count": 6,
   "id": "7debddae",
   "metadata": {},
   "outputs": [],
   "source": [
    "preprocessor = ColumnTransformer([\n",
    "    ('numeric', num_pipe(),['Jarak_Tempuh']),\n",
    "    ('categoric', cat_pipe(encoder='onehot'),['Les','Jurusan','Nilai_Penjurusan','Nilai_Pokok'])\n",
    "])"
   ]
  },
  {
   "cell_type": "code",
   "execution_count": 7,
   "id": "90ab8673",
   "metadata": {},
   "outputs": [],
   "source": [
    "from sklearn.naive_bayes import GaussianNB\n",
    "pipeline = Pipeline ([\n",
    "    ('prep', preprocessor),\n",
    "    ('algo', GaussianNB())\n",
    "])"
   ]
  },
  {
   "cell_type": "code",
   "execution_count": 8,
   "id": "04b0cf62",
   "metadata": {},
   "outputs": [
    {
     "data": {
      "text/plain": [
       "Pipeline(steps=[('prep',\n",
       "                 ColumnTransformer(transformers=[('numeric',\n",
       "                                                  Pipeline(steps=[('imputer',\n",
       "                                                                   SimpleImputer(strategy='median'))]),\n",
       "                                                  ['Jarak_Tempuh']),\n",
       "                                                 ('categoric',\n",
       "                                                  Pipeline(steps=[('imputer',\n",
       "                                                                   SimpleImputer(strategy='most_frequent')),\n",
       "                                                                  ('onehot',\n",
       "                                                                   OneHotEncoder(handle_unknown='ignore'))]),\n",
       "                                                  ['Les', 'Jurusan',\n",
       "                                                   'Nilai_Penjurusan',\n",
       "                                                   'Nilai_Pokok'])])),\n",
       "                ('algo', GaussianNB())])"
      ]
     },
     "execution_count": 8,
     "metadata": {},
     "output_type": "execute_result"
    }
   ],
   "source": [
    "pipeline.fit(x_train, y_train)"
   ]
  },
  {
   "cell_type": "code",
   "execution_count": 9,
   "id": "fd5c219e",
   "metadata": {},
   "outputs": [
    {
     "data": {
      "text/plain": [
       "0.825"
      ]
     },
     "execution_count": 9,
     "metadata": {},
     "output_type": "execute_result"
    }
   ],
   "source": [
    "pipeline.score(x_train, y_train)"
   ]
  },
  {
   "cell_type": "code",
   "execution_count": 10,
   "id": "ce005198",
   "metadata": {},
   "outputs": [
    {
     "data": {
      "text/plain": [
       "0.9"
      ]
     },
     "execution_count": 10,
     "metadata": {},
     "output_type": "execute_result"
    }
   ],
   "source": [
    "pipeline.score(x_test, y_test)"
   ]
  },
  {
   "cell_type": "code",
   "execution_count": 11,
   "id": "2989d30d",
   "metadata": {},
   "outputs": [
    {
     "data": {
      "image/png": "[encoded data removed]",
      "text/plain": [
       "<Figure size 1100x500 with 2 Axes>"
      ]
     },
     "metadata": {},
     "output_type": "display_data"
    }
   ],
   "source": [
    "from jcopml.plot import plot_confusion_matrix\n",
    "plot_confusion_matrix(x_train, y_train, x_test, y_test, pipeline)"
   ]
  },
  {
   "cell_type": "code",
   "execution_count": 12,
   "id": "02952194",
   "metadata": {},
   "outputs": [
    {
     "data": {
      "text/html": [
       "<div>\n",
       "<style scoped>\n",
       "    .dataframe tbody tr th:only-of-type {\n",
       "        vertical-align: middle;\n",
       "    }\n",
       "\n",
       "    .dataframe tbody tr th {\n",
       "        vertical-align: top;\n",
       "    }\n",
       "\n",
       "    .dataframe thead th {\n",
       "        text-align: right;\n",
       "    }\n",
       "</style>\n",
       "<table border=\"1\" class=\"dataframe\">\n",
       "  <thead>\n",
       "    <tr style=\"text-align: right;\">\n",
       "      <th></th>\n",
       "      <th>Les</th>\n",
       "      <th>Jurusan</th>\n",
       "      <th>Nilai_Penjurusan</th>\n",
       "      <th>Nilai_Pokok</th>\n",
       "      <th>Jarak_Tempuh</th>\n",
       "    </tr>\n",
       "  </thead>\n",
       "  <tbody>\n",
       "    <tr>\n",
       "      <th>0</th>\n",
       "      <td>Tidak</td>\n",
       "      <td>MIPA</td>\n",
       "      <td>Amat Baik</td>\n",
       "      <td>Baik</td>\n",
       "      <td>4</td>\n",
       "    </tr>\n",
       "  </tbody>\n",
       "</table>\n",
       "</div>"
      ],
      "text/plain": [
       "     Les Jurusan Nilai_Penjurusan Nilai_Pokok  Jarak_Tempuh\n",
       "0  Tidak    MIPA        Amat Baik        Baik             4"
      ]
     },
     "execution_count": 12,
     "metadata": {},
     "output_type": "execute_result"
    }
   ],
   "source": [
    "prediction = pd.read_excel('testing.xlsx')\n",
    "prediction"
   ]
  },
  {
   "cell_type": "code",
   "execution_count": 13,
   "id": "dddceb4b",
   "metadata": {},
   "outputs": [
    {
     "data": {
      "text/plain": [
       "array([1], dtype=int64)"
      ]
     },
     "execution_count": 13,
     "metadata": {},
     "output_type": "execute_result"
    }
   ],
   "source": [
    "pipeline.predict(prediction)"
   ]
  },
  {
   "cell_type": "code",
   "execution_count": 14,
   "id": "4cd70d61",
   "metadata": {},
   "outputs": [
    {
     "data": {
      "text/html": [
       "<div>\n",
       "<style scoped>\n",
       "    .dataframe tbody tr th:only-of-type {\n",
       "        vertical-align: middle;\n",
       "    }\n",
       "\n",
       "    .dataframe tbody tr th {\n",
       "        vertical-align: top;\n",
       "    }\n",
       "\n",
       "    .dataframe thead th {\n",
       "        text-align: right;\n",
       "    }\n",
       "</style>\n",
       "<table border=\"1\" class=\"dataframe\">\n",
       "  <thead>\n",
       "    <tr style=\"text-align: right;\">\n",
       "      <th></th>\n",
       "      <th>Les</th>\n",
       "      <th>Jurusan</th>\n",
       "      <th>Nilai_Penjurusan</th>\n",
       "      <th>Nilai_Pokok</th>\n",
       "      <th>Jarak_Tempuh</th>\n",
       "      <th>PRESTASI</th>\n",
       "    </tr>\n",
       "  </thead>\n",
       "  <tbody>\n",
       "    <tr>\n",
       "      <th>0</th>\n",
       "      <td>Tidak</td>\n",
       "      <td>MIPA</td>\n",
       "      <td>Amat Baik</td>\n",
       "      <td>Baik</td>\n",
       "      <td>4</td>\n",
       "      <td>1</td>\n",
       "    </tr>\n",
       "  </tbody>\n",
       "</table>\n",
       "</div>"
      ],
      "text/plain": [
       "     Les Jurusan Nilai_Penjurusan Nilai_Pokok  Jarak_Tempuh  PRESTASI\n",
       "0  Tidak    MIPA        Amat Baik        Baik             4         1"
      ]
     },
     "execution_count": 14,
     "metadata": {},
     "output_type": "execute_result"
    }
   ],
   "source": [
    "prediction['PRESTASI'] = pipeline.predict(prediction)\n",
    "prediction"
   ]
  },
  {
   "cell_type": "code",
   "execution_count": null,
   "id": "772ad1f8",
   "metadata": {},
   "outputs": [],
   "source": []
  }
 ],
 "metadata": {
  "kernelspec": {
   "display_name": "Python 3 (ipykernel)",
   "language": "python",
   "name": "python3"
  },
  "language_info": {
   "codemirror_mode": {
    "name": "ipython",
    "version": 3
   },
   "file_extension": ".py",
   "mimetype": "text/x-python",
   "name": "python",
   "nbconvert_exporter": "python",
   "pygments_lexer": "ipython3",
   "version": "3.9.13"
  }
 },
 "nbformat": 4,
 "nbformat_minor": 5
}
