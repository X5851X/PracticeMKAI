{
 "cells": [
  {
   "cell_type": "code",
   "execution_count": 9,
   "id": "0c33033d",
   "metadata": {},
   "outputs": [
    {
     "name": "stdout",
     "output_type": "stream",
     "text": [
      "A B C D E F "
     ]
    }
   ],
   "source": [
    "graph = {\n",
    "    'A' : ['B','C'],\n",
    "    'B' : ['D','E'],\n",
    "    'C' : ['F'],\n",
    "    'D' : [],\n",
    "    'E' : ['F'],\n",
    "    'F' : []\n",
    "}\n",
    "\n",
    "visited = [] #list untuk melacak node yang di kunjungi\n",
    "queue = [] #Inisialisasi antrian\n",
    "\n",
    "def bfs(visited, graph, node):\n",
    "    visited.append(node)\n",
    "    queue.append(node)\n",
    "    \n",
    "    while queue:\n",
    "        s = queue.pop(0)\n",
    "        print (s, end = \" \")\n",
    "        \n",
    "        for neighbour in graph[s]:\n",
    "            if neighbour not in visited:\n",
    "                visited.append(neighbour)\n",
    "                queue.append(neighbour)\n",
    "                \n",
    "#Driver code\n",
    "bfs(visited, graph, 'A')"
   ]
  },
  {
   "cell_type": "code",
   "execution_count": 10,
   "id": "096310ae",
   "metadata": {},
   "outputs": [
    {
     "name": "stdout",
     "output_type": "stream",
     "text": [
      "A\n",
      "B\n",
      "D\n",
      "E\n",
      "F\n",
      "C\n"
     ]
    }
   ],
   "source": [
    "graph = {\n",
    "    'A' : ['B','C'],\n",
    "    'B' : ['D','E'],\n",
    "    'C' : ['F'],\n",
    "    'D' : [],\n",
    "    'E' : ['F'],\n",
    "    'F' : []\n",
    "}\n",
    "\n",
    "visited = set() # Tetapkan untuk melacak node yang dikunjuni\n",
    "\n",
    "\n",
    "def dfs(visited, graph, node):\n",
    "    if node not in visited:\n",
    "        print (node)\n",
    "        visited.add(node)\n",
    "        for neighbour in graph[node]:\n",
    "            dfs(visited, graph, neighbour)\n",
    "#Driver code\n",
    "dfs(visited, graph, 'A')"
   ]
  },
  {
   "cell_type": "code",
   "execution_count": 11,
   "id": "e9a12a20",
   "metadata": {},
   "outputs": [
    {
     "data": {
      "image/png": "[encoded data removed]",
      "text/plain": [
       "<IPython.core.display.Image object>"
      ]
     },
     "execution_count": 11,
     "metadata": {},
     "output_type": "execute_result"
    }
   ],
   "source": [
    "from IPython.display import Image\n",
    "Image(filename='hill.png')"
   ]
  },
  {
   "cell_type": "code",
   "execution_count": 12,
   "id": "046c9a71",
   "metadata": {},
   "outputs": [],
   "source": [
    "AB = 8\n",
    "BA = 8\n",
    "BC = 5\n",
    "CB = 5\n",
    "CD = 6\n",
    "DC = 6\n",
    "BD = 4\n",
    "DB = 4\n",
    "AD = 7\n",
    "DA = 7\n",
    "AC = 3\n",
    "CA = 3"
   ]
  },
  {
   "cell_type": "code",
   "execution_count": 14,
   "id": "86dace0f",
   "metadata": {},
   "outputs": [
    {
     "data": {
      "text/plain": [
       "19"
      ]
     },
     "execution_count": 14,
     "metadata": {},
     "output_type": "execute_result"
    }
   ],
   "source": [
    "p1 = AB+BC+CD\n",
    "p1"
   ]
  },
  {
   "cell_type": "code",
   "execution_count": 15,
   "id": "0d3e6831",
   "metadata": {},
   "outputs": [
    {
     "data": {
      "text/plain": [
       "(17, 12, 18, 12, 18, 20)"
      ]
     },
     "execution_count": 15,
     "metadata": {},
     "output_type": "execute_result"
    }
   ],
   "source": [
    "p2 = BA+AC+CD\n",
    "p3 = AC+CB+BD\n",
    "p4 = AB+BD+DC\n",
    "p5 = DB+BC+CA\n",
    "p6 = AD+DC+CB\n",
    "p7 = CB+BA+AD\n",
    "\n",
    "p2,p3,p4,p5,p6,p7"
   ]
  },
  {
   "cell_type": "code",
   "execution_count": 16,
   "id": "9382a4e4",
   "metadata": {},
   "outputs": [
    {
     "data": {
      "text/plain": [
       "(19, 15, 21, 15, 13, 15)"
      ]
     },
     "execution_count": 16,
     "metadata": {},
     "output_type": "execute_result"
    }
   ],
   "source": [
    "q1 = AB+BC+CD\n",
    "q2 = BC+CA+AD\n",
    "q3 = BA+AD+DC\n",
    "q4 = DA+AC+CB\n",
    "q5 = BD+DC+CA\n",
    "q6 = CA+AB+BD\n",
    "\n",
    "q1,q2,q3,q4,q5,q6"
   ]
  },
  {
   "cell_type": "code",
   "execution_count": 17,
   "id": "9e158de7",
   "metadata": {},
   "outputs": [
    {
     "data": {
      "text/plain": [
       "(17, 17, 18, 17, 14, 12)"
      ]
     },
     "execution_count": 17,
     "metadata": {},
     "output_type": "execute_result"
    }
   ],
   "source": [
    "r1 = CB+AB+BD\n",
    "r2 = BA+AC+CD\n",
    "r3 = BC+CD+DA\n",
    "r4 = DC+CA+AB\n",
    "r5 = BD+DA+AC\n",
    "r6 = AC+CB+BD\n",
    "\n",
    "r1,r2,r3,r4,r5,r6"
   ]
  },
  {
   "cell_type": "code",
   "execution_count": 18,
   "id": "49bc1172",
   "metadata": {},
   "outputs": [
    {
     "data": {
      "text/plain": [
       "(15, 21, 13, 21, 15, 16)"
      ]
     },
     "execution_count": 18,
     "metadata": {},
     "output_type": "execute_result"
    }
   ],
   "source": [
    "s1 = DB+BA+AC\n",
    "s2 = BA+AD+DC\n",
    "s3 = BD+DC+CA\n",
    "s4 = CD+DA+AB\n",
    "s5 = BC+CA+AD\n",
    "s6 = AD+DB+BC\n",
    "\n",
    "s1,s2,s3,s4,s5,s6"
   ]
  },
  {
   "cell_type": "code",
   "execution_count": 19,
   "id": "066c22b2",
   "metadata": {},
   "outputs": [
    {
     "data": {
      "text/plain": [
       "(12, 18, 14, 18, 20, 18)"
      ]
     },
     "execution_count": 19,
     "metadata": {},
     "output_type": "execute_result"
    }
   ],
   "source": [
    "t1 = DB+BC+CA\n",
    "t2 = BC+CD+DA\n",
    "t3 = BD+DA+AC\n",
    "t4 = AD+DC+CB\n",
    "t5 = CB+BA+AD\n",
    "t6 = AD+DC+CB\n",
    "\n",
    "t1,t2,t3,t4,t5,t6"
   ]
  },
  {
   "cell_type": "code",
   "execution_count": 20,
   "id": "ed722b83",
   "metadata": {},
   "outputs": [
    {
     "data": {
      "text/plain": [
       "(13, 19, 15, 13, 15, 16)"
      ]
     },
     "execution_count": 20,
     "metadata": {},
     "output_type": "execute_result"
    }
   ],
   "source": [
    "u1 = BD+DC+CA\n",
    "u2 = DC+CB+BA\n",
    "u3 = DB+BA+AC\n",
    "u4 = AC+CD+DB\n",
    "u5 = DA+AC+CB\n",
    "u6 = CB+BD+DA\n",
    "\n",
    "u1,u2,u3,u4,u5,u6"
   ]
  },
  {
   "cell_type": "code",
   "execution_count": 21,
   "id": "03952607",
   "metadata": {},
   "outputs": [
    {
     "data": {
      "image/png": "[encoded data removed]",
      "text/plain": [
       "<IPython.core.display.Image object>"
      ]
     },
     "execution_count": 21,
     "metadata": {},
     "output_type": "execute_result"
    }
   ],
   "source": [
    "from IPython.display import Image\n",
    "Image(filename='greedy.png')"
   ]
  },
  {
   "cell_type": "code",
   "execution_count": 22,
   "id": "813f7e81",
   "metadata": {},
   "outputs": [],
   "source": [
    "graph = {\n",
    "    'S' : [('A',1),('B',4)],\n",
    "    'A' : [('B',2),('C',5),('G',12)],\n",
    "    'B' : [('C',2)],\n",
    "    'C' : [('G',3)]\n",
    "}\n",
    "\n",
    "H_table = {\n",
    "    'S':7,\n",
    "    'A':6,\n",
    "    'B':4,\n",
    "    'C':2,\n",
    "    'G':0\n",
    "}"
   ]
  },
  {
   "cell_type": "code",
   "execution_count": 28,
   "id": "8118d1cd",
   "metadata": {},
   "outputs": [],
   "source": [
    "def path_h_cost(path):\n",
    "    g_cost = 0\n",
    "    for (node, cost) in path:\n",
    "        g_cost += cost\n",
    "        last_node = path[-1][0]\n",
    "        h_cost = H_table[last_node]\n",
    "        f_cost = g_cost + h_cost\n",
    "        return h_cost, last_node"
   ]
  },
  {
   "cell_type": "code",
   "execution_count": 29,
   "id": "aa5bc9dd",
   "metadata": {},
   "outputs": [
    {
     "name": "stdout",
     "output_type": "stream",
     "text": [
      "(2, 'C')\n"
     ]
    }
   ],
   "source": [
    "path = [('S',0),('A',1),('C',5)]\n",
    "\n",
    "print(path_h_cost(path))"
   ]
  },
  {
   "cell_type": "code",
   "execution_count": 30,
   "id": "cb3afa67",
   "metadata": {},
   "outputs": [
    {
     "name": "stdout",
     "output_type": "stream",
     "text": [
      "(4, 'B')\n"
     ]
    }
   ],
   "source": [
    "path = [('S',0),('A',1),('B',2)]\n",
    "\n",
    "print(path_h_cost(path))"
   ]
  },
  {
   "cell_type": "code",
   "execution_count": 33,
   "id": "6c1b9443",
   "metadata": {},
   "outputs": [],
   "source": [
    "def Greedy_best_search(graph, start, goal):\n",
    "    visited = []\n",
    "    queue = [[(start,0)]]\n",
    "    while queue:\n",
    "        queue.sort(key=path_h_cost)\n",
    "        path = queue.pop(0)\n",
    "        node = path[-1][0]\n",
    "        if node in visited:\n",
    "            continue\n",
    "        visited.append(node)\n",
    "        if node == goal:\n",
    "            return path\n",
    "        else:\n",
    "            adjacent_nodes = graph.get(node,[])\n",
    "            for (node2, cost) in adjacent_nodes:\n",
    "                new_path = path .copy()\n",
    "                new_path.append((node2, cost))\n",
    "                queue.append(new_path)"
   ]
  },
  {
   "cell_type": "code",
   "execution_count": 34,
   "id": "dfcbec77",
   "metadata": {},
   "outputs": [
    {
     "name": "stdout",
     "output_type": "stream",
     "text": [
      "Solution is [('S', 0), ('B', 4), ('C', 2), ('G', 3)]\n",
      "Cost of Solution is 0\n"
     ]
    }
   ],
   "source": [
    "solution = Greedy_best_search(graph, 'S', 'G')\n",
    "print ('Solution is', solution)\n",
    "print ('Cost of Solution is', path_h_cost(solution)[0])"
   ]
  },
  {
   "cell_type": "code",
   "execution_count": null,
   "id": "58576da8",
   "metadata": {},
   "outputs": [],
   "source": []
  }
 ],
 "metadata": {
  "kernelspec": {
   "display_name": "Python 3 (ipykernel)",
   "language": "python",
   "name": "python3"
  },
  "language_info": {
   "codemirror_mode": {
    "name": "ipython",
    "version": 3
   },
   "file_extension": ".py",
   "mimetype": "text/x-python",
   "name": "python",
   "nbconvert_exporter": "python",
   "pygments_lexer": "ipython3",
   "version": "3.9.13"
  }
 },
 "nbformat": 4,
 "nbformat_minor": 5
}
