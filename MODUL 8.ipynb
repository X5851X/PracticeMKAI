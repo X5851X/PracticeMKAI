{
 "cells": [
  {
   "cell_type": "code",
   "execution_count": 2,
   "id": "252899c0",
   "metadata": {},
   "outputs": [
    {
     "name": "stdout",
     "output_type": "stream",
     "text": [
      "[['gives milk', 'x'], ['eats meat', 'x'], ['twany color', 'x'], ['is mammal', 'x'], ['is carnivore', 'x']]\n"
     ]
    }
   ],
   "source": [
    "global facts\n",
    "global is_changed\n",
    "\n",
    "is_changed = True\n",
    "\n",
    "facts = [[\"gives milk\",\"x\"], [\"eats meat\",\"x\"], [\"twany color\",\"x\"]]\n",
    "\n",
    "def assert_fact(fact):\n",
    "    global facts \n",
    "    global is_changed\n",
    "    \n",
    "    if not fact in facts:\n",
    "        facts += [fact]\n",
    "        is_changed = True\n",
    "        \n",
    "while is_changed:\n",
    "    is_changed = False \n",
    "    for xf in facts:\n",
    "        if xf[0] == \"has hair\":\n",
    "            assert_fact([\"is mammal\",xf[1]])\n",
    "        if xf[0] == \"gives milk\":\n",
    "            assert_fact([\"is mammal\",xf[1]])\n",
    "        if xf[0] == \"has feathers\":\n",
    "            assert_fact([\"is bird\",xf[1]])\n",
    "        if xf[0] == \"flies\" and [\"lays egg\",xf[1]] in facts:\n",
    "            assert_fact([\"is bird\",xf[1]])\n",
    "        if xf[0] == \"is mammal\" and [\"eats meat\",xf[1]] in facts:\n",
    "            assert_fact([\"is carnivore\",xf[1]])\n",
    "        if xf[0] == \"is mammal\" and [\"has pointed teeth\",xf[1]] and [\"has claws\",xf[1]] \\\n",
    "        and [\"has forward pointing eyes\",xf[1]]in facts:\n",
    "            assert_fact([\"is carnivore\",xf[1]])\n",
    "        if xf[0] == \"is mammal\" and [\"has hoofs\",xf[1]] in facts:\n",
    "            assert_fact([\"is ungulate\",xf[1]])\n",
    "            assert_fact([\"is even-toed\",xf[1]])\n",
    "        if xf[0] == \"is mammal\" and [\"has hoofs\",xf[1]] in facts:\n",
    "            assert_fact([\"is ungulate\",xf[1]])\n",
    "        if xf[0] == \"is mammal\" and [\"cews cud\",xf[1]]and [\"is ungulate\",xf[1]] in facts:\n",
    "            assert_fact([\"is even-toed\",xf[1]])\n",
    "        if xf[0] == \"is carnivore\" and [\"tawny color\",xf[1]]and [\"has dark spots\",xf[1]] in facts:\n",
    "            assert_fact([\"is cheetah\",xf[1]])\n",
    "        if xf[0] == \"is carnivore\" and [\"tawny color\",xf[1]]and [\"has black stripes\",xf[1]] in facts:\n",
    "            assert_fact([\"is tiger\",xf[1]])\n",
    "print(facts)"
   ]
  },
  {
   "cell_type": "code",
   "execution_count": 3,
   "id": "e2317614",
   "metadata": {},
   "outputs": [
    {
     "name": "stdout",
     "output_type": "stream",
     "text": [
      "[['gives milk', 'y'], ['eats meat', 'y'], ['twany color', 'y'], ['has dark spots', 'y'], ['is mammal', 'y'], ['is carnivore', 'y'], ['is cheetah', 'y']]\n"
     ]
    }
   ],
   "source": [
    "global facts\n",
    "global is_changed\n",
    "\n",
    "is_changed = True\n",
    "\n",
    "facts = [[\"gives milk\",\"y\"], [\"eats meat\",\"y\"], [\"twany color\",\"y\"], [\"has dark spots\",\"y\"]]\n",
    "\n",
    "def assert_fact(fact):\n",
    "    global facts\n",
    "    global is_changed\n",
    "    \n",
    "    if not fact in facts:\n",
    "        facts += [fact]\n",
    "        is_changed = True\n",
    "        \n",
    "while is_changed:\n",
    "    is_changed = False \n",
    "    for xf in facts:\n",
    "        if xf[0] == \"has hair\":\n",
    "            assert_fact([\"is mammal\",xf[1]])\n",
    "        if xf[0] == \"gives milk\":\n",
    "            assert_fact([\"is mammal\",xf[1]])\n",
    "        if xf[0] == \"has feathers\":\n",
    "            assert_fact([\"is bird\",xf[1]])\n",
    "        if xf[0] == \"flies\" and [\"lays egg\",xf[1]] in facts:\n",
    "            assert_fact([\"is bird\",xf[1]])\n",
    "        if xf[0] == \"is mammal\" and [\"eats meat\",xf[1]] in facts:\n",
    "            assert_fact([\"is carnivore\",xf[1]])\n",
    "        if xf[0] == \"is mammal\" and [\"has pointed teeth\",xf[1]] and [\"has claws\",xf[1]] \\\n",
    "        and [\"has forward pointing eyes\",xf[1]]in facts:\n",
    "            assert_fact([\"is carnivore\",xf[1]])\n",
    "        if xf[0] == \"is mammal\" and [\"has hoofs\",xf[1]] in facts:\n",
    "            assert_fact([\"is ungulate\",xf[1]])\n",
    "            assert_fact([\"is even-toed\",xf[1]])\n",
    "        if xf[0] == \"is mammal\" and [\"has hoofs\",xf[1]] in facts:\n",
    "            assert_fact([\"is ungulate\",xf[1]])\n",
    "        if xf[0] == \"is mammal\" and [\"cews cud\",xf[1]]and [\"is ungulate\",xf[1]] in facts:\n",
    "            assert_fact([\"is even-toed\",xf[1]])\n",
    "        if xf[0] == \"is carnivore\" and [\"tawny color\",xf[1]]and [\"has dark spots\",xf[1]] in facts:\n",
    "            assert_fact([\"is cheetah\",xf[1]])\n",
    "        if xf[0] == \"is carnivore\" and [\"tawny color\",xf[1]]and [\"has black stripes\",xf[1]] in facts:\n",
    "            assert_fact([\"is tiger\",xf[1]])\n",
    "print(facts)"
   ]
  },
  {
   "cell_type": "code",
   "execution_count": 6,
   "id": "0b4b636a",
   "metadata": {},
   "outputs": [],
   "source": [
    "global facts\n",
    "global is_changed\n",
    "\n",
    "is_changed = True\n",
    "\n",
    "facts = [[\"gives milk\", \"x\"], [\"eats meat\", \"x\"], [\"twany color\", \"x\"]]\n",
    "\n",
    "def assert_fact(fact):\n",
    "    global facts\n",
    "    global is_changed\n",
    "    \n",
    "    if not fact in facts:\n",
    "        facts += [fact]\n",
    "        is_changed = True\n",
    "while is_changed:\n",
    "    is_changed = False \n",
    "    for xf in facts:\n",
    "        if xf[0] == \"has hair\":\n",
    "            assert_fact([\"is mammal\", xf[1]])\n",
    "        if xf[0] == \"gives milk\":\n",
    "            assert_fact([\"is mammal\", xf[1]])\n",
    "        if xf[0] == \"has feathers\":\n",
    "            assert_fact([\"is bird\", xf[1]])\n",
    "        if xf[0] == \"flies\" and [\"lays egg\", xf[1]] in facts:\n",
    "            assert_fact([\"is bird\", xf[1]])\n",
    "        if xf[0] == \"is mammal\" and [\"eats meat\", xf[1]] in facts:\n",
    "            assert_fact([\"is carnivore\", xf[1]])\n",
    "        if xf[0] == \"is mammal\" and [\"has pointed teeth\", xf[1]] and [\"has claws\", xf[1]] \\\n",
    "        and [\"has forward pointing eyes\", xf[1]] in facts:\n",
    "            assert_fact([\"is carnivore\", xf[1]])\n",
    "        if xf[0] == \"is mammal\" and [\"has hoofs\", xf[1]] in facts:\n",
    "            assert_fact([\"is ungulate\", xf[1]])\n",
    "            assert_fact([\"is even-toed\", xf[1]])\n",
    "        if xf[0] == \"is mammal\" and [\"chews cud\", xf[1]] and [\"is ungulate\", xf[1]] in facts:\n",
    "            assert_fact([\"is even-toed\", xf[1]])\n",
    "        if xf[0] == \"is carnivore\" and [\"tawny color\", xf[1]] and [\"has dark spots\", xf[1]] in facts:\n",
    "            assert_fact([\"is cheetah\", xf[1]])\n",
    "        if xf[0] == \"is carnivore\" and [\"tawny color\", xf[1]] and [\"has black stripes\", xf[1]] in facts:\n",
    "            assert_fact([\"is tiger\", xf[1]])\n",
    "        if xf[0] == \"is bird\" and [\"can swim\", xf[1]] in facts:\n",
    "            assert_fact([\"is waterfowl\", xf[1]])\n",
    "        if xf[0] == \"is bird\" and [\"has long neck\", xf[1]] in facts:\n",
    "            assert_fact([\"is ostrich\", xf[1]])\n",
    "        if xf[0] == \"is bird\" and [\"does not fly\", xf[1]] in facts:\n",
    "            assert_fact([\"is penguin\", xf[1]])"
   ]
  },
  {
   "cell_type": "code",
   "execution_count": 7,
   "id": "3993fba6",
   "metadata": {},
   "outputs": [
    {
     "name": "stdout",
     "output_type": "stream",
     "text": [
      "Masukkan jumlah fakta tambahan yang ingin Anda berikan: 2\n",
      "Masukkan deskripsi fakta: is tiger\n",
      "Masukkan nilai fakta (x/y): is carnivore\n",
      "Masukkan deskripsi fakta: is even-toed\n",
      "Masukkan nilai fakta (x/y): is carnivore\n"
     ]
    }
   ],
   "source": [
    "num_additional_facts = int(input(\"Masukkan jumlah fakta tambahan yang ingin Anda berikan: \"))\n",
    "for _ in range(num_additional_facts):\n",
    "    fact_desc = input(\"Masukkan deskripsi fakta: \")\n",
    "    fact_value = input(\"Masukkan nilai fakta (x/y): \")\n",
    "    assert_fact([fact_desc, fact_value])"
   ]
  },
  {
   "cell_type": "code",
   "execution_count": 8,
   "id": "3c7fb9c2",
   "metadata": {},
   "outputs": [
    {
     "name": "stdout",
     "output_type": "stream",
     "text": [
      "\n",
      "Inferensi yang benar:\n",
      "gives milk : Benar\n",
      "eats meat : Benar\n",
      "twany color : Benar\n",
      "is mammal : Benar\n",
      "is carnivore : Benar\n",
      "is ungulate : Salah\n",
      "is even-toed : Salah\n",
      "is cheetah : Salah\n",
      "is tiger : Salah\n",
      "is bird : Salah\n",
      "is waterfowl : Salah\n",
      "is ostrich : Salah\n",
      "is penguin : Salah\n",
      "\n",
      "Fakta yang terinferensi:\n",
      "[['gives milk', 'x'], ['eats meat', 'x'], ['twany color', 'x'], ['is mammal', 'x'], ['is carnivore', 'x'], ['is tiger', 'is carnivore'], ['is even-toed', 'is carnivore']]\n"
     ]
    }
   ],
   "source": [
    "correct_inferences = [\n",
    "    [\"gives milk\", \"x\"], [\"eats meat\", \"x\"], [\"twany color\", \"x\"], \n",
    "    [\"is mammal\", \"x\"], [\"is carnivore\", \"x\"], [\"is ungulate\", \"x\"],\n",
    "    [\"is even-toed\", \"x\"], [\"is cheetah\", \"x\"], [\"is tiger\", \"x\"],\n",
    "    [\"is bird\", \"x\"], [\"is waterfowl\", \"x\"], [\"is ostrich\", \"x\"], [\"is penguin\", \"x\"]\n",
    "]\n",
    "\n",
    "print(\"\\nInferensi yang benar:\")\n",
    "for inference in correct_inferences:\n",
    "    if inference in facts:\n",
    "        print(inference[0], \":\", \"Benar\")\n",
    "    else:\n",
    "        print(inference[0], \":\", \"Salah\")\n",
    "\n",
    "print(\"\\nFakta yang terinferensi:\")\n",
    "print(facts)"
   ]
  },
  {
   "cell_type": "code",
   "execution_count": null,
   "id": "da9b43fe",
   "metadata": {},
   "outputs": [],
   "source": []
  }
 ],
 "metadata": {
  "kernelspec": {
   "display_name": "Python 3 (ipykernel)",
   "language": "python",
   "name": "python3"
  },
  "language_info": {
   "codemirror_mode": {
    "name": "ipython",
    "version": 3
   },
   "file_extension": ".py",
   "mimetype": "text/x-python",
   "name": "python",
   "nbconvert_exporter": "python",
   "pygments_lexer": "ipython3",
   "version": "3.9.13"
  }
 },
 "nbformat": 4,
 "nbformat_minor": 5
}
