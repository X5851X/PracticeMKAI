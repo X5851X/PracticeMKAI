{
 "cells": [
  {
   "cell_type": "code",
   "execution_count": 30,
   "id": "c6b6a196",
   "metadata": {},
   "outputs": [
    {
     "name": "stdout",
     "output_type": "stream",
     "text": [
      "   Zahra  Lily  Dito  Naufal\n",
      "0     27    43    83      29\n",
      "1     61    74    91      88\n",
      "2     61    96     0      26\n"
     ]
    }
   ],
   "source": [
    "import pandas as pd\n",
    "import numpy as np\n",
    "\n",
    "# Membuat DataFrame 3x4 dengan kolom Zahra, Lily, Dito, dan Naufal\n",
    "df = pd.DataFrame(np.random.randint(0, 100, size=(3, 4)), columns=['Zahra', 'Lily', 'Dito', 'Naufal'])\n",
    "\n",
    "# Menampilkan DataFrame\n",
    "print(df)\n"
   ]
  },
  {
   "cell_type": "code",
   "execution_count": 36,
   "id": "18337940",
   "metadata": {},
   "outputs": [
    {
     "name": "stdout",
     "output_type": "stream",
     "text": [
      "DataFrame:\n",
      "   Zahra  Lily  Dito  Naufal\n",
      "0     58    69    79      92\n",
      "1      2    19    58      35\n",
      "2     18    89    66      18\n",
      "\n",
      "Nilai dalam sel baris #1:\n",
      "Kelas A (kolom Lily): 19\n",
      "Kelas B (kolom Naufal): 35\n",
      "Kelas C (kolom Zahra): 2\n"
     ]
    }
   ],
   "source": [
    "import pandas as pd\n",
    "import numpy as np\n",
    "\n",
    "# Membuat DataFrame 3x4 dengan kolom Zahra, Lily, Dito, dan Naufal\n",
    "df = pd.DataFrame(np.random.randint(0, 100, size=(3, 4)), columns=['Zahra', 'Lily', 'Dito', 'Naufal'])\n",
    "\n",
    "# Menampilkan DataFrame\n",
    "print(\"DataFrame:\")\n",
    "print(df)\n",
    "print()\n",
    "\n",
    "# Menampilkan nilai dalam sel baris #1 dari kolom Lily (Untuk kelas A)\n",
    "# Kolom Naufal (Untuk kelas B), dan kolom Zahra (Untuk kelas C)\n",
    "print(\"Nilai dalam sel baris #1:\")\n",
    "print(\"Kelas A (kolom Lily):\", df.loc[1, 'Lily'])\n",
    "print(\"Kelas B (kolom Naufal):\", df.loc[1, 'Naufal'])\n",
    "print(\"Kelas C (kolom Zahra):\", df.loc[1, 'Zahra'])\n"
   ]
  },
  {
   "cell_type": "code",
   "execution_count": 38,
   "id": "2199bc59",
   "metadata": {
    "scrolled": true
   },
   "outputs": [
    {
     "name": "stdout",
     "output_type": "stream",
     "text": [
      "   Zahra  Lily  Dito  Naufal  Janet\n",
      "0     88    49    22      30    110\n",
      "1     93    41    98       6    191\n",
      "2     15    89    59       1     74\n"
     ]
    }
   ],
   "source": [
    "import pandas as pd\n",
    "import numpy as np\n",
    "\n",
    "# Membuat DataFrame 3x4 dengan kolom Zahra, Lily, Dito, dan Naufal\n",
    "df = pd.DataFrame(np.random.randint(0, 100, size=(3, 4)), columns=['Zahra', 'Lily', 'Dito', 'Naufal'])\n",
    "\n",
    "# Menambahkan kolom Janet yang diisi dengan jumlah baris dari kolom Zahra dan Dito\n",
    "df['Janet'] = df['Zahra'] + df['Dito']\n",
    "\n",
    "# Menampilkan DataFrame\n",
    "print(df)\n"
   ]
  },
  {
   "cell_type": "code",
   "execution_count": 8,
   "id": "73b4f513",
   "metadata": {
    "scrolled": true
   },
   "outputs": [
    {
     "data": {
      "image/png": "[encoded data removed]",
      "text/plain": [
       "<IPython.core.display.Image object>"
      ]
     },
     "execution_count": 8,
     "metadata": {},
     "output_type": "execute_result"
    }
   ],
   "source": [
    "# Mengimport library yang dibutuhkan\n",
    "import pandas as pd\n",
    "from sklearn.tree import DecisionTreeClassifier \n",
    "from sklearn import metrics \n",
    "\n",
    "# Membuat data karyawan dengan variabel-variabel yang relevan\n",
    "data = {'Pendidikan': ['SMA', 'S1', 'S2', 'SMA', 'S1', 'S2', 'SMA', 'S1', 'S2', \n",
    "                       'SMA', 'S1', 'S2', 'SMA', 'S1', 'S2'], \n",
    "        'Usia': [25, 27, 30, 35, 37, 40, 45, 47, 50, 55, 57, 60, 65, 67, 70], \n",
    "        'Lama Bekerja (tahun)': [2, 4, 6, 8, 10, 12, 14, 16, 18, 20, 22, 24, 26, 28, 30], \n",
    "        'Performance Score': ['Baik', 'Cukup', 'Cukup', 'Baik', 'Cukup', 'Cukup', 'Baik', \n",
    "                            'Cukup', 'Cukup', 'Baik', 'Cukup', 'Cukup', 'Baik', 'Cukup', 'Cukup'], \n",
    "        'Kenaikan Gaji': [0, 0, 1, 0, 0, 1, 0, 0, 1, 0, 0, 1, 0, 0, 1]}\n",
    "\n",
    "df = pd.DataFrame(data) # Membuat data frame dari data karyawan\n",
    "\n",
    "# Mengubah variabel kategorikal menjadi numerik\n",
    "df['Pendidikan'] = pd.factorize(df['Pendidikan'])[0]\n",
    "df['Performance Score'] = pd.factorize(df['Performance Score'])[0]\n",
    "\n",
    "# Memisahkan variabel independen dan dependen\n",
    "X = df[['Pendidikan', 'Usia', 'Lama Bekerja (tahun)', 'Performance Score']]\n",
    "y = df['Kenaikan Gaji']\n",
    "\n",
    "# Membuat decision tree dengan metode entropi\n",
    "clf = DecisionTreeClassifier(criterion=\"entropy\", max_depth=3)\n",
    "clf.fit(X,y)\n",
    "\n",
    "# Visualisasi decision tree\n",
    "from sklearn.tree import export_graphviz\n",
    "from IPython.display import Image  \n",
    "import pydotplus\n",
    "dot_data = export_graphviz(clf, out_file=None, \n",
    "                           feature_names=['Pendidikan', 'Usia', 'Lama Bekerja (tahun)', 'Performance Score'],  \n",
    "                           class_names=['Tidak Naik Gaji', 'Naik Gaji'],  \n",
    "                           filled=True, rounded=True,  \n",
    "                           special_characters=True)  \n",
    "graph = pydotplus.graph_from_dot_data(dot_data)  \n",
    "Image(graph.create_png())"
   ]
  },
  {
   "cell_type": "code",
   "execution_count": null,
   "id": "78448fd6",
   "metadata": {},
   "outputs": [],
   "source": []
  }
 ],
 "metadata": {
  "kernelspec": {
   "display_name": "Python 3 (ipykernel)",
   "language": "python",
   "name": "python3"
  },
  "language_info": {
   "codemirror_mode": {
    "name": "ipython",
    "version": 3
   },
   "file_extension": ".py",
   "mimetype": "text/x-python",
   "name": "python",
   "nbconvert_exporter": "python",
   "pygments_lexer": "ipython3",
   "version": "3.9.13"
  }
 },
 "nbformat": 4,
 "nbformat_minor": 5
}
